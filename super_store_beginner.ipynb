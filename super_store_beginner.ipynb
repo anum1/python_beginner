{
  "metadata": {
    "kernelspec": {
      "name": "python",
      "display_name": "Python (Pyodide)",
      "language": "python"
    },
    "language_info": {
      "codemirror_mode": {
        "name": "python",
        "version": 3
      },
      "file_extension": ".py",
      "mimetype": "text/x-python",
      "name": "python",
      "nbconvert_exporter": "python",
      "pygments_lexer": "ipython3",
      "version": "3.8"
    }
  },
  "nbformat_minor": 5,
  "nbformat": 4,
  "cells": [
    {
      "id": "65fa3c97-3bc5-474a-bc60-91263ab15ee9",
      "cell_type": "code",
      "source": "import pandas as pd",
      "metadata": {
        "trusted": true
      },
      "outputs": [],
      "execution_count": 3
    },
    {
      "id": "9701c002-a911-49c3-b626-93aec6a4f1c2",
      "cell_type": "code",
      "source": "df = pd.read_csv(\"Superstore.csv\")\ndf",
      "metadata": {
        "trusted": true
      },
      "outputs": [
        {
          "execution_count": 5,
          "output_type": "execute_result",
          "data": {
            "text/plain": "                 City  Customer ID    Customer Name Customer Segment  \\\n0               Bowie         2211       Anita Hahn      Home Office   \n1       New York City           68       Scott Bunn        Corporate   \n2          Montebello         1155   Alex Nicholson         Consumer   \n3       New York City           68       Scott Bunn        Corporate   \n4          Montebello         1155   Alex Nicholson         Consumer   \n...               ...          ...              ...              ...   \n9421    Nicholasville         2149   Rodney Proctor      Home Office   \n9422    Nicholasville         2149   Rodney Proctor      Home Office   \n9423  North Tonawanda         2277  Allison Peacock         Consumer   \n9424  North Tonawanda         2277  Allison Peacock         Consumer   \n9425    Saint Charles         1090      Seth Davies   Small Business   \n\n      Discount  Number of Records Order Date  Order ID Order Priority  \\\n0         0.08                  1     1/1/10     88028  Not Specified   \n1         0.00                  1     1/2/10     37537            Low   \n2         0.08                  1     1/2/10     90853       Critical   \n3         0.07                  1     1/2/10     37537            Low   \n4         0.09                  1     1/2/10     90853       Critical   \n...        ...                ...        ...       ...            ...   \n9421      0.09                  1   12/30/13     91107            Low   \n9422      0.00                  1   12/30/13     91107            Low   \n9423      0.00                  1   12/31/13     91506  Not Specified   \n9424      0.06                  1   12/31/13     91506  Not Specified   \n9425      0.03                  1   12/31/13     90144         Medium   \n\n      Postal Code  ...       Profit Quantity ordered new   Region Row ID  \\\n0           20715  ...  -425.208400                    2     East  19914   \n1           10177  ...  -308.928000                    4     East   5272   \n2           90640  ...   108.516300                   11     West  24225   \n3           10177  ... -1679.760000                   43     East   5273   \n4           90640  ...    20.299600                    4     West  24224   \n...           ...  ...          ...                  ...      ...    ...   \n9421        40356  ...   676.032000                    1    South  24916   \n9422        40356  ...   450.327600                   16    South  24915   \n9423        14120  ...   -28.099680                    1     East  24554   \n9424        14120  ...     4.045184                    5     East  24553   \n9425        60174  ...  2318.910600                   20  Central  24129   \n\n        Sales  Ship Date       Ship Mode Shipping Cost  State or Province  \\\n0      193.88     1/3/10     Express Air         35.00           Maryland   \n1     1239.06     1/2/10  Delivery Truck         48.80           New York   \n2      157.27     1/2/10     Regular Air          1.97         California   \n3     4083.19     1/4/10  Delivery Truck         45.00           New York   \n4       34.41     1/4/10     Express Air          2.15         California   \n...       ...        ...             ...           ...                ...   \n9421   803.33   12/30/13     Regular Air         24.49           Kentucky   \n9422   347.32   12/30/13     Regular Air          4.00           Kentucky   \n9423   200.57     1/2/14  Delivery Truck         70.20           New York   \n9424    65.18     1/2/14     Regular Air          4.98           New York   \n9425  3360.74     1/2/14     Regular Air         19.99           Illinois   \n\n      Unit Price  \n0          95.99  \n1         291.73  \n2          15.04  \n3         100.98  \n4           9.11  \n...          ...  \n9421      832.81  \n9422       19.98  \n9423      122.99  \n9424       12.95  \n9425      162.93  \n\n[9426 rows x 25 columns]",
            "text/html": "<div>\n<style scoped>\n    .dataframe tbody tr th:only-of-type {\n        vertical-align: middle;\n    }\n\n    .dataframe tbody tr th {\n        vertical-align: top;\n    }\n\n    .dataframe thead th {\n        text-align: right;\n    }\n</style>\n<table border=\"1\" class=\"dataframe\">\n  <thead>\n    <tr style=\"text-align: right;\">\n      <th></th>\n      <th>City</th>\n      <th>Customer ID</th>\n      <th>Customer Name</th>\n      <th>Customer Segment</th>\n      <th>Discount</th>\n      <th>Number of Records</th>\n      <th>Order Date</th>\n      <th>Order ID</th>\n      <th>Order Priority</th>\n      <th>Postal Code</th>\n      <th>...</th>\n      <th>Profit</th>\n      <th>Quantity ordered new</th>\n      <th>Region</th>\n      <th>Row ID</th>\n      <th>Sales</th>\n      <th>Ship Date</th>\n      <th>Ship Mode</th>\n      <th>Shipping Cost</th>\n      <th>State or Province</th>\n      <th>Unit Price</th>\n    </tr>\n  </thead>\n  <tbody>\n    <tr>\n      <th>0</th>\n      <td>Bowie</td>\n      <td>2211</td>\n      <td>Anita Hahn</td>\n      <td>Home Office</td>\n      <td>0.08</td>\n      <td>1</td>\n      <td>1/1/10</td>\n      <td>88028</td>\n      <td>Not Specified</td>\n      <td>20715</td>\n      <td>...</td>\n      <td>-425.208400</td>\n      <td>2</td>\n      <td>East</td>\n      <td>19914</td>\n      <td>193.88</td>\n      <td>1/3/10</td>\n      <td>Express Air</td>\n      <td>35.00</td>\n      <td>Maryland</td>\n      <td>95.99</td>\n    </tr>\n    <tr>\n      <th>1</th>\n      <td>New York City</td>\n      <td>68</td>\n      <td>Scott Bunn</td>\n      <td>Corporate</td>\n      <td>0.00</td>\n      <td>1</td>\n      <td>1/2/10</td>\n      <td>37537</td>\n      <td>Low</td>\n      <td>10177</td>\n      <td>...</td>\n      <td>-308.928000</td>\n      <td>4</td>\n      <td>East</td>\n      <td>5272</td>\n      <td>1239.06</td>\n      <td>1/2/10</td>\n      <td>Delivery Truck</td>\n      <td>48.80</td>\n      <td>New York</td>\n      <td>291.73</td>\n    </tr>\n    <tr>\n      <th>2</th>\n      <td>Montebello</td>\n      <td>1155</td>\n      <td>Alex Nicholson</td>\n      <td>Consumer</td>\n      <td>0.08</td>\n      <td>1</td>\n      <td>1/2/10</td>\n      <td>90853</td>\n      <td>Critical</td>\n      <td>90640</td>\n      <td>...</td>\n      <td>108.516300</td>\n      <td>11</td>\n      <td>West</td>\n      <td>24225</td>\n      <td>157.27</td>\n      <td>1/2/10</td>\n      <td>Regular Air</td>\n      <td>1.97</td>\n      <td>California</td>\n      <td>15.04</td>\n    </tr>\n    <tr>\n      <th>3</th>\n      <td>New York City</td>\n      <td>68</td>\n      <td>Scott Bunn</td>\n      <td>Corporate</td>\n      <td>0.07</td>\n      <td>1</td>\n      <td>1/2/10</td>\n      <td>37537</td>\n      <td>Low</td>\n      <td>10177</td>\n      <td>...</td>\n      <td>-1679.760000</td>\n      <td>43</td>\n      <td>East</td>\n      <td>5273</td>\n      <td>4083.19</td>\n      <td>1/4/10</td>\n      <td>Delivery Truck</td>\n      <td>45.00</td>\n      <td>New York</td>\n      <td>100.98</td>\n    </tr>\n    <tr>\n      <th>4</th>\n      <td>Montebello</td>\n      <td>1155</td>\n      <td>Alex Nicholson</td>\n      <td>Consumer</td>\n      <td>0.09</td>\n      <td>1</td>\n      <td>1/2/10</td>\n      <td>90853</td>\n      <td>Critical</td>\n      <td>90640</td>\n      <td>...</td>\n      <td>20.299600</td>\n      <td>4</td>\n      <td>West</td>\n      <td>24224</td>\n      <td>34.41</td>\n      <td>1/4/10</td>\n      <td>Express Air</td>\n      <td>2.15</td>\n      <td>California</td>\n      <td>9.11</td>\n    </tr>\n    <tr>\n      <th>...</th>\n      <td>...</td>\n      <td>...</td>\n      <td>...</td>\n      <td>...</td>\n      <td>...</td>\n      <td>...</td>\n      <td>...</td>\n      <td>...</td>\n      <td>...</td>\n      <td>...</td>\n      <td>...</td>\n      <td>...</td>\n      <td>...</td>\n      <td>...</td>\n      <td>...</td>\n      <td>...</td>\n      <td>...</td>\n      <td>...</td>\n      <td>...</td>\n      <td>...</td>\n      <td>...</td>\n    </tr>\n    <tr>\n      <th>9421</th>\n      <td>Nicholasville</td>\n      <td>2149</td>\n      <td>Rodney Proctor</td>\n      <td>Home Office</td>\n      <td>0.09</td>\n      <td>1</td>\n      <td>12/30/13</td>\n      <td>91107</td>\n      <td>Low</td>\n      <td>40356</td>\n      <td>...</td>\n      <td>676.032000</td>\n      <td>1</td>\n      <td>South</td>\n      <td>24916</td>\n      <td>803.33</td>\n      <td>12/30/13</td>\n      <td>Regular Air</td>\n      <td>24.49</td>\n      <td>Kentucky</td>\n      <td>832.81</td>\n    </tr>\n    <tr>\n      <th>9422</th>\n      <td>Nicholasville</td>\n      <td>2149</td>\n      <td>Rodney Proctor</td>\n      <td>Home Office</td>\n      <td>0.00</td>\n      <td>1</td>\n      <td>12/30/13</td>\n      <td>91107</td>\n      <td>Low</td>\n      <td>40356</td>\n      <td>...</td>\n      <td>450.327600</td>\n      <td>16</td>\n      <td>South</td>\n      <td>24915</td>\n      <td>347.32</td>\n      <td>12/30/13</td>\n      <td>Regular Air</td>\n      <td>4.00</td>\n      <td>Kentucky</td>\n      <td>19.98</td>\n    </tr>\n    <tr>\n      <th>9423</th>\n      <td>North Tonawanda</td>\n      <td>2277</td>\n      <td>Allison Peacock</td>\n      <td>Consumer</td>\n      <td>0.00</td>\n      <td>1</td>\n      <td>12/31/13</td>\n      <td>91506</td>\n      <td>Not Specified</td>\n      <td>14120</td>\n      <td>...</td>\n      <td>-28.099680</td>\n      <td>1</td>\n      <td>East</td>\n      <td>24554</td>\n      <td>200.57</td>\n      <td>1/2/14</td>\n      <td>Delivery Truck</td>\n      <td>70.20</td>\n      <td>New York</td>\n      <td>122.99</td>\n    </tr>\n    <tr>\n      <th>9424</th>\n      <td>North Tonawanda</td>\n      <td>2277</td>\n      <td>Allison Peacock</td>\n      <td>Consumer</td>\n      <td>0.06</td>\n      <td>1</td>\n      <td>12/31/13</td>\n      <td>91506</td>\n      <td>Not Specified</td>\n      <td>14120</td>\n      <td>...</td>\n      <td>4.045184</td>\n      <td>5</td>\n      <td>East</td>\n      <td>24553</td>\n      <td>65.18</td>\n      <td>1/2/14</td>\n      <td>Regular Air</td>\n      <td>4.98</td>\n      <td>New York</td>\n      <td>12.95</td>\n    </tr>\n    <tr>\n      <th>9425</th>\n      <td>Saint Charles</td>\n      <td>1090</td>\n      <td>Seth Davies</td>\n      <td>Small Business</td>\n      <td>0.03</td>\n      <td>1</td>\n      <td>12/31/13</td>\n      <td>90144</td>\n      <td>Medium</td>\n      <td>60174</td>\n      <td>...</td>\n      <td>2318.910600</td>\n      <td>20</td>\n      <td>Central</td>\n      <td>24129</td>\n      <td>3360.74</td>\n      <td>1/2/14</td>\n      <td>Regular Air</td>\n      <td>19.99</td>\n      <td>Illinois</td>\n      <td>162.93</td>\n    </tr>\n  </tbody>\n</table>\n<p>9426 rows × 25 columns</p>\n</div>"
          },
          "metadata": {}
        }
      ],
      "execution_count": 5
    },
    {
      "id": "61d1b209-6967-4217-8198-5d563bdf916b",
      "cell_type": "code",
      "source": "df_1 = df[['City', 'Order Date', 'Sales', 'Profit']]\ndf_1 = df_1.rename(columns={'Order Date': 'Date'})\ndf_1",
      "metadata": {
        "trusted": true
      },
      "outputs": [
        {
          "execution_count": 10,
          "output_type": "execute_result",
          "data": {
            "text/plain": "                 City      Date    Sales       Profit\n0               Bowie    1/1/10   193.88  -425.208400\n1       New York City    1/2/10  1239.06  -308.928000\n2          Montebello    1/2/10   157.27   108.516300\n3       New York City    1/2/10  4083.19 -1679.760000\n4          Montebello    1/2/10    34.41    20.299600\n...               ...       ...      ...          ...\n9421    Nicholasville  12/30/13   803.33   676.032000\n9422    Nicholasville  12/30/13   347.32   450.327600\n9423  North Tonawanda  12/31/13   200.57   -28.099680\n9424  North Tonawanda  12/31/13    65.18     4.045184\n9425    Saint Charles  12/31/13  3360.74  2318.910600\n\n[9426 rows x 4 columns]",
            "text/html": "<div>\n<style scoped>\n    .dataframe tbody tr th:only-of-type {\n        vertical-align: middle;\n    }\n\n    .dataframe tbody tr th {\n        vertical-align: top;\n    }\n\n    .dataframe thead th {\n        text-align: right;\n    }\n</style>\n<table border=\"1\" class=\"dataframe\">\n  <thead>\n    <tr style=\"text-align: right;\">\n      <th></th>\n      <th>City</th>\n      <th>Date</th>\n      <th>Sales</th>\n      <th>Profit</th>\n    </tr>\n  </thead>\n  <tbody>\n    <tr>\n      <th>0</th>\n      <td>Bowie</td>\n      <td>1/1/10</td>\n      <td>193.88</td>\n      <td>-425.208400</td>\n    </tr>\n    <tr>\n      <th>1</th>\n      <td>New York City</td>\n      <td>1/2/10</td>\n      <td>1239.06</td>\n      <td>-308.928000</td>\n    </tr>\n    <tr>\n      <th>2</th>\n      <td>Montebello</td>\n      <td>1/2/10</td>\n      <td>157.27</td>\n      <td>108.516300</td>\n    </tr>\n    <tr>\n      <th>3</th>\n      <td>New York City</td>\n      <td>1/2/10</td>\n      <td>4083.19</td>\n      <td>-1679.760000</td>\n    </tr>\n    <tr>\n      <th>4</th>\n      <td>Montebello</td>\n      <td>1/2/10</td>\n      <td>34.41</td>\n      <td>20.299600</td>\n    </tr>\n    <tr>\n      <th>...</th>\n      <td>...</td>\n      <td>...</td>\n      <td>...</td>\n      <td>...</td>\n    </tr>\n    <tr>\n      <th>9421</th>\n      <td>Nicholasville</td>\n      <td>12/30/13</td>\n      <td>803.33</td>\n      <td>676.032000</td>\n    </tr>\n    <tr>\n      <th>9422</th>\n      <td>Nicholasville</td>\n      <td>12/30/13</td>\n      <td>347.32</td>\n      <td>450.327600</td>\n    </tr>\n    <tr>\n      <th>9423</th>\n      <td>North Tonawanda</td>\n      <td>12/31/13</td>\n      <td>200.57</td>\n      <td>-28.099680</td>\n    </tr>\n    <tr>\n      <th>9424</th>\n      <td>North Tonawanda</td>\n      <td>12/31/13</td>\n      <td>65.18</td>\n      <td>4.045184</td>\n    </tr>\n    <tr>\n      <th>9425</th>\n      <td>Saint Charles</td>\n      <td>12/31/13</td>\n      <td>3360.74</td>\n      <td>2318.910600</td>\n    </tr>\n  </tbody>\n</table>\n<p>9426 rows × 4 columns</p>\n</div>"
          },
          "metadata": {}
        }
      ],
      "execution_count": 10
    },
    {
      "id": "3db2026f-66dd-430d-8ddc-d04293df00b0",
      "cell_type": "code",
      "source": "df_1.groupby('City')['Sales'].sum().reset_index()",
      "metadata": {
        "trusted": true
      },
      "outputs": [
        {
          "execution_count": 11,
          "output_type": "execute_result",
          "data": {
            "text/plain": "            City     Sales\n0       Aberdeen   5296.39\n1        Abilene   3950.34\n2       Abington     81.87\n3          Acton     25.00\n4        Addison    496.62\n...          ...       ...\n1419        York    980.76\n1420  Youngstown    903.24\n1421   Yuba City    476.43\n1422     Yucaipa  11027.78\n1423        Yuma  19781.52\n\n[1424 rows x 2 columns]",
            "text/html": "<div>\n<style scoped>\n    .dataframe tbody tr th:only-of-type {\n        vertical-align: middle;\n    }\n\n    .dataframe tbody tr th {\n        vertical-align: top;\n    }\n\n    .dataframe thead th {\n        text-align: right;\n    }\n</style>\n<table border=\"1\" class=\"dataframe\">\n  <thead>\n    <tr style=\"text-align: right;\">\n      <th></th>\n      <th>City</th>\n      <th>Sales</th>\n    </tr>\n  </thead>\n  <tbody>\n    <tr>\n      <th>0</th>\n      <td>Aberdeen</td>\n      <td>5296.39</td>\n    </tr>\n    <tr>\n      <th>1</th>\n      <td>Abilene</td>\n      <td>3950.34</td>\n    </tr>\n    <tr>\n      <th>2</th>\n      <td>Abington</td>\n      <td>81.87</td>\n    </tr>\n    <tr>\n      <th>3</th>\n      <td>Acton</td>\n      <td>25.00</td>\n    </tr>\n    <tr>\n      <th>4</th>\n      <td>Addison</td>\n      <td>496.62</td>\n    </tr>\n    <tr>\n      <th>...</th>\n      <td>...</td>\n      <td>...</td>\n    </tr>\n    <tr>\n      <th>1419</th>\n      <td>York</td>\n      <td>980.76</td>\n    </tr>\n    <tr>\n      <th>1420</th>\n      <td>Youngstown</td>\n      <td>903.24</td>\n    </tr>\n    <tr>\n      <th>1421</th>\n      <td>Yuba City</td>\n      <td>476.43</td>\n    </tr>\n    <tr>\n      <th>1422</th>\n      <td>Yucaipa</td>\n      <td>11027.78</td>\n    </tr>\n    <tr>\n      <th>1423</th>\n      <td>Yuma</td>\n      <td>19781.52</td>\n    </tr>\n  </tbody>\n</table>\n<p>1424 rows × 2 columns</p>\n</div>"
          },
          "metadata": {}
        }
      ],
      "execution_count": 11
    },
    {
      "id": "d4bac501-7f89-4351-8c5a-178792ca864f",
      "cell_type": "code",
      "source": "",
      "metadata": {
        "trusted": true
      },
      "outputs": [],
      "execution_count": null
    }
  ]
}